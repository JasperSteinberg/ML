{
 "cells": [
  {
   "cell_type": "markdown",
   "id": "e070bdb6-fff7-4fb4-beb9-a765c6843c3f",
   "metadata": {
    "tags": []
   },
   "source": [
    "# short_notebook_2\n",
    "## By Jasper Steinberg  \n",
    "### Team [200] - 紅燒肉"
   ]
  },
  {
   "cell_type": "code",
   "execution_count": 45,
   "id": "5129c913-147a-4733-9095-6276f9885f6a",
   "metadata": {},
   "outputs": [],
   "source": [
    "import pandas as pd\n",
    "import numpy as np\n",
    "from geopy.distance import geodesic\n",
    "import matplotlib.pyplot as plt\n",
    "import seaborn as sns\n",
    "from lightgbm import LGBMRegressor\n",
    "from sklearn.metrics import mean_squared_error\n",
    "import xgboost as xgb"
   ]
  },
  {
   "cell_type": "code",
   "execution_count": 46,
   "id": "cb1ddfff-5389-4340-ad4a-ebac53644a82",
   "metadata": {
    "tags": []
   },
   "outputs": [],
   "source": [
    "#Loading the training data and formating the time variable.\n",
    "train = pd.read_csv('ais_train.csv', sep='|')\n",
    "test = pd.read_csv('ais_test.csv')\n",
    "train['time'] = pd.to_datetime(train['time'])\n",
    "test['time'] = pd.to_datetime(test['time'])\n",
    "\n",
    "train = train.sort_values(by=['vesselId', 'time']).reset_index(drop=True)\n",
    "test = test.sort_values(by=['vesselId', 'time']).reset_index(drop=True)"
   ]
  },
  {
   "cell_type": "markdown",
   "id": "d186fc4c-d69b-4276-8a56-b3de4824a0c9",
   "metadata": {},
   "source": [
    "Basic preprocessing and feature engineering"
   ]
  },
  {
   "cell_type": "code",
   "execution_count": 47,
   "id": "55b3ea91-3357-4be9-8d43-c39fdfab4bb8",
   "metadata": {
    "tags": []
   },
   "outputs": [],
   "source": [
    "train.drop(columns=['rot', 'heading', 'etaRaw', 'portId'], inplace=True)\n",
    "\n",
    "train['cog'] = train['cog'].replace(360, np.nan)\n",
    "\n",
    "train.loc[(train['cog'] > 360) & (train['cog'] <= 409.5), 'cog']= np.nan\n",
    "\n",
    "train['sog'] = train['sog'].replace(102.3, np.nan)\n",
    "\n",
    "train['v_lat'] = train['sog']*np.sin((np.pi/180)*train['cog'])\n",
    "train['v_lon'] = train['sog']*np.cos((np.pi/180)*train['cog'])"
   ]
  },
  {
   "cell_type": "markdown",
   "id": "69c5d95b-471d-4096-bc3f-a0cc4dc1b560",
   "metadata": {},
   "source": [
    "Cleaning of teleporting vessels"
   ]
  },
  {
   "cell_type": "code",
   "execution_count": 49,
   "id": "cedc19e8-3072-428c-abef-1ec6155810d1",
   "metadata": {
    "tags": []
   },
   "outputs": [
    {
     "name": "stdout",
     "output_type": "stream",
     "text": [
      "Total number of teleporting instances: 471\n"
     ]
    }
   ],
   "source": [
    "#Calculate the time difference in hours for each vessel\n",
    "train['time_delta'] = train.groupby('vesselId')['time'].diff().dt.total_seconds() / 3600\n",
    "\n",
    "#Calculate the distance between consecutive positions\n",
    "def calculate_distance(row):\n",
    "    if pd.isna(row['time_delta']):\n",
    "        return np.nan  #First entry for each vessel\n",
    "    prev_row = train.iloc[row.name - 1]\n",
    "    if row['vesselId'] == prev_row['vesselId']:\n",
    "        prev_coords = (prev_row['latitude'], prev_row['longitude'])\n",
    "        curr_coords = (row['latitude'], row['longitude'])\n",
    "        return geodesic(prev_coords, curr_coords).kilometers\n",
    "    else:\n",
    "        return np.nan\n",
    "\n",
    "train['distance_km'] = train.apply(calculate_distance, axis=1)\n",
    "\n",
    "#Calculate speed in km/h\n",
    "train['speed_kmh'] = train['distance_km'] / train['time_delta']\n",
    "\n",
    "# Define a realistic maximum speed for vessels (e.g., 50 km/h)\n",
    "MAX_SPEED = 50\n",
    "\n",
    "#Identify rows with unrealistic speeds\n",
    "train['teleport'] = train['speed_kmh'] > MAX_SPEED\n",
    "\n",
    "#Count the total number of teleporting instances\n",
    "teleport_count = train['teleport'].sum()\n",
    "print(f'Total number of teleporting instances: {teleport_count}')\n",
    "\n",
    "#Remove teleporting entries\n",
    "train = train[train['teleport'] != True].copy()\n",
    "\n",
    "#drop auxiliary columns\n",
    "train.drop(columns=['time_delta', 'distance_km', 'speed_kmh', 'teleport'], inplace=True)"
   ]
  },
  {
   "cell_type": "code",
   "execution_count": 50,
   "id": "118e9ded-a546-437a-8d7d-611ca7b5099a",
   "metadata": {
    "tags": []
   },
   "outputs": [],
   "source": [
    "#Calculate the minimum time for each vessel\n",
    "train['vessel_min_time'] = train.groupby('vesselId')['time'].transform('min')\n",
    "\n",
    "#Compute the time difference in seconds\n",
    "train['time_diff_seconds'] = (train['time'] - train['vessel_min_time']).dt.total_seconds()\n",
    "\n",
    "#Define the window duration in seconds\n",
    "window_duration_seconds = 5 * 24 * 60 * 60  #5 days in seconds\n",
    "\n",
    "#Calculate 'window_id'\n",
    "train['window_id'] = (train['time_diff_seconds'] // window_duration_seconds).astype(int)\n",
    "\n",
    "#Drop the auxiliary columns \n",
    "train.drop(columns=['vessel_min_time', 'time_diff_seconds'], inplace=True)\n"
   ]
  },
  {
   "cell_type": "code",
   "execution_count": 51,
   "id": "d491c0ad-9aae-4017-a1ea-2b66daa7c36d",
   "metadata": {
    "tags": []
   },
   "outputs": [],
   "source": [
    "#Sort the DataFrame\n",
    "train_new = train.sort_values(by=['vesselId', 'window_id', 'time']).reset_index(drop=True).copy()\n",
    "\n",
    "#Get the last observation per vessel and window\n",
    "last_obs_per_window = train_new.groupby(['vesselId', 'window_id']).last().reset_index()\n",
    "\n",
    "#Prepare and shift the last observations\n",
    "#Select only the necessary columns to prevent overlap\n",
    "last_obs_columns = [\n",
    "    'vesselId', 'window_id', 'time', 'latitude', 'longitude',\n",
    "    'v_lat', 'v_lon',\n",
    "]\n",
    "\n",
    "last_obs = last_obs_per_window[last_obs_columns].copy()\n",
    "\n",
    "#Rename columns to distinguish them from 'train' columns\n",
    "last_obs.rename(columns={\n",
    "    'time': 'prev_window_time_last',\n",
    "    'latitude': 'prev_window_last_latitude',\n",
    "    'longitude': 'prev_window_last_longitude',\n",
    "    'v_lat': 'prev_window_last_v_lat',\n",
    "    'v_lon': 'prev_window_last_v_lon',\n",
    "}, inplace=True)\n",
    "\n",
    "shift_columns = [\n",
    "        'prev_window_last_latitude', 'prev_window_last_longitude',\n",
    "        'prev_window_time_last', 'prev_window_last_v_lat', \n",
    "        'prev_window_last_v_lon'\n",
    "]\n",
    "\n",
    "def shift_last_observations(df, shift_columns = shift_columns):\n",
    "    df = df.sort_values('window_id').reset_index(drop=True)\n",
    "    #Shift the columns by one to align with the next window\n",
    "    \n",
    "    df[shift_columns] = df[shift_columns].shift(1)\n",
    "    return df\n",
    "\n",
    "#Apply the shift per vesselId\n",
    "last_obs_shifted = last_obs.groupby('vesselId').apply(shift_last_observations).reset_index(drop=True)\n",
    "\n",
    "#Keep only the columns needed to merge\n",
    "merge_columns = ['vesselId', 'window_id'] + shift_columns\n",
    "last_obs_shifted = last_obs_shifted[merge_columns]\n",
    "\n",
    "\n",
    "#Merge back into the original DataFrame\n",
    "train_new = pd.merge(\n",
    "    train_new,\n",
    "    last_obs_shifted,\n",
    "    on=['vesselId', 'window_id'],\n",
    "    how='left'\n",
    ")\n",
    "\n",
    "#Compute 'time_diff'\n",
    "train_new['time_diff'] = (train_new['time'] - train_new['prev_window_time_last']).dt.total_seconds()\n"
   ]
  },
  {
   "cell_type": "code",
   "execution_count": 52,
   "id": "056a8360-c2e3-4498-ae41-ca623ace90e2",
   "metadata": {
    "tags": []
   },
   "outputs": [],
   "source": [
    "#Define the target variables\n",
    "targets = ['latitude', 'longitude']\n",
    "\n",
    "#Select features\n",
    "features = [\n",
    "    'time_diff',                        \n",
    "    'prev_window_last_latitude',        \n",
    "    'prev_window_last_longitude',      \n",
    "    'prev_window_last_v_lat',\n",
    "    'prev_window_last_v_lon' \n",
    "]\n",
    "\n"
   ]
  },
  {
   "cell_type": "markdown",
   "id": "4ac0f649-4b2a-428c-9916-3b2f01f64018",
   "metadata": {},
   "source": [
    "### Training the model on all the data"
   ]
  },
  {
   "cell_type": "code",
   "execution_count": 53,
   "id": "7920e3f3-5f23-4d15-ad9f-20c6326631bb",
   "metadata": {
    "tags": []
   },
   "outputs": [],
   "source": [
    "#Formating of training sets\n",
    "training_set = train_new.dropna(subset = features + targets)\n",
    "\n",
    "X_global = training_set[features]\n",
    "\n",
    "y_global_lat = training_set['latitude']\n",
    "y_global_lon = training_set['longitude']"
   ]
  },
  {
   "cell_type": "code",
   "execution_count": 54,
   "id": "14f7edda-665d-440a-9c86-5c4fa01abb99",
   "metadata": {
    "tags": []
   },
   "outputs": [],
   "source": [
    "#Latitude datasets\n",
    "global_data_lat = xgb.DMatrix(X_global, label=y_global_lat)\n",
    "\n",
    "#Longitude datasets\n",
    "global_data_lon = xgb.DMatrix(X_global, label=y_global_lon)"
   ]
  },
  {
   "cell_type": "code",
   "execution_count": 55,
   "id": "ee38851f-8598-42ba-980f-591a349723e9",
   "metadata": {
    "tags": []
   },
   "outputs": [],
   "source": [
    "#Define model parameters, just use some fairly standard choises, no tuning\n",
    "params = {\n",
    "    'objective': 'reg:squarederror',\n",
    "    'eval_metric': 'rmse',  \n",
    "    'learning_rate': 0.1,\n",
    "    'max_depth': 6,\n",
    "    'alpha': 10\n",
    "}"
   ]
  },
  {
   "cell_type": "code",
   "execution_count": 56,
   "id": "4cc0f6b6-873c-40b0-b187-3158d200590e",
   "metadata": {
    "tags": []
   },
   "outputs": [],
   "source": [
    "#Train the latitude model\n",
    "lat_model = xgb.train(\n",
    "    params,\n",
    "    global_data_lat,\n",
    "    num_boost_round=1000,\n",
    "    verbose_eval=False\n",
    ")"
   ]
  },
  {
   "cell_type": "code",
   "execution_count": 57,
   "id": "df399b85-f44d-4878-be47-c498bad2b479",
   "metadata": {
    "tags": []
   },
   "outputs": [],
   "source": [
    "# Train the longitude model\n",
    "lon_model = xgb.train(\n",
    "    params,\n",
    "    global_data_lon,\n",
    "    num_boost_round=1000,\n",
    "    verbose_eval=False\n",
    ")"
   ]
  },
  {
   "cell_type": "markdown",
   "id": "9711b0c7-0156-45e4-8c37-98c773da8346",
   "metadata": {},
   "source": [
    "### Test predictions\n",
    "We prepare for prediction by loading in the last seen information from the training set into the test set."
   ]
  },
  {
   "cell_type": "code",
   "execution_count": 58,
   "id": "eef5c97e-34ca-4d7e-aac3-1711457b72eb",
   "metadata": {
    "tags": []
   },
   "outputs": [],
   "source": [
    "train_new.sort_values(by=['vesselId', 'time'], inplace=True)\n",
    "\n",
    "#Features needed from the last known data\n",
    "#Features to extract\n",
    "last_known_features = [\n",
    "    'vesselId',\n",
    "    'latitude',\n",
    "    'longitude',\n",
    "    'v_lat',\n",
    "    'v_lon',\n",
    "    'time'\n",
    "]\n",
    "\n",
    "#Get last known records for each vessel\n",
    "last_known_data = train_new.groupby('vesselId').last().reset_index()\n",
    "\n",
    "#Keep only the required features\n",
    "last_known_data = last_known_data[last_known_features]\n"
   ]
  },
  {
   "cell_type": "code",
   "execution_count": 59,
   "id": "cfcb8752-aaa2-406a-8ec9-cf0550f23696",
   "metadata": {
    "tags": []
   },
   "outputs": [],
   "source": [
    "#Merge last known data with test set on 'vesselId'\n",
    "test_set = test.merge(last_known_data, on='vesselId', how='left', suffixes=('', '_prev'))\n"
   ]
  },
  {
   "cell_type": "code",
   "execution_count": 60,
   "id": "01506337-37ba-4192-bac3-652325bb0dc1",
   "metadata": {
    "tags": []
   },
   "outputs": [],
   "source": [
    "#Rename columns to align with feature names\n",
    "test_set.rename(columns={\n",
    "    'latitude': 'prev_window_last_latitude',\n",
    "    'longitude': 'prev_window_last_longitude',\n",
    "    'v_lat': 'prev_window_last_v_lat',\n",
    "    'v_lon': 'prev_window_last_v_lon',\n",
    "    'time_prev': 'prev_time'\n",
    "}, inplace=True)"
   ]
  },
  {
   "cell_type": "code",
   "execution_count": 61,
   "id": "5a35cd86-37a9-432e-8f6f-359204228bcc",
   "metadata": {
    "tags": []
   },
   "outputs": [],
   "source": [
    "#Calculate 'time_diff' in seconds\n",
    "test_set['time_diff'] = (test_set['time'] - test_set['prev_time']).dt.total_seconds()"
   ]
  },
  {
   "cell_type": "code",
   "execution_count": 62,
   "id": "e00a30f4-6e52-41c8-ae95-729ce824cdbb",
   "metadata": {
    "tags": []
   },
   "outputs": [],
   "source": [
    "#Convert the test set to a DMatrix\n",
    "test_data = xgb.DMatrix(test_set[features])\n",
    "\n",
    "#Predict latitude and longitude using the models\n",
    "test_set['latitude_predicted'] = lat_model.predict(test_data)\n",
    "test_set['longitude_predicted'] = lon_model.predict(test_data)\n"
   ]
  },
  {
   "cell_type": "code",
   "execution_count": 63,
   "id": "cca1e751-90e8-4b7f-8a51-55186e1b0f0f",
   "metadata": {
    "tags": []
   },
   "outputs": [],
   "source": [
    "#Sort back to the original aligmnent and format for submission\n",
    "test_fin = test_set.sort_values(by=['ID'])\n",
    "\n",
    "test_fin = test_fin[['ID', 'longitude_predicted', 'latitude_predicted']].copy()"
   ]
  },
  {
   "cell_type": "code",
   "execution_count": 64,
   "id": "0b998941-2672-4465-829e-db94b8803fbf",
   "metadata": {
    "tags": []
   },
   "outputs": [
    {
     "data": {
      "text/html": [
       "<div>\n",
       "<style scoped>\n",
       "    .dataframe tbody tr th:only-of-type {\n",
       "        vertical-align: middle;\n",
       "    }\n",
       "\n",
       "    .dataframe tbody tr th {\n",
       "        vertical-align: top;\n",
       "    }\n",
       "\n",
       "    .dataframe thead th {\n",
       "        text-align: right;\n",
       "    }\n",
       "</style>\n",
       "<table border=\"1\" class=\"dataframe\">\n",
       "  <thead>\n",
       "    <tr style=\"text-align: right;\">\n",
       "      <th></th>\n",
       "      <th>ID</th>\n",
       "      <th>longitude_predicted</th>\n",
       "      <th>latitude_predicted</th>\n",
       "    </tr>\n",
       "  </thead>\n",
       "  <tbody>\n",
       "    <tr>\n",
       "      <th>5045</th>\n",
       "      <td>0</td>\n",
       "      <td>-80.759438</td>\n",
       "      <td>31.173223</td>\n",
       "    </tr>\n",
       "    <tr>\n",
       "      <th>44194</th>\n",
       "      <td>1</td>\n",
       "      <td>115.983269</td>\n",
       "      <td>15.767951</td>\n",
       "    </tr>\n",
       "    <tr>\n",
       "      <th>41210</th>\n",
       "      <td>2</td>\n",
       "      <td>10.772911</td>\n",
       "      <td>38.086067</td>\n",
       "    </tr>\n",
       "    <tr>\n",
       "      <th>32880</th>\n",
       "      <td>3</td>\n",
       "      <td>173.339096</td>\n",
       "      <td>-41.010788</td>\n",
       "    </tr>\n",
       "    <tr>\n",
       "      <th>0</th>\n",
       "      <td>4</td>\n",
       "      <td>6.005428</td>\n",
       "      <td>48.190571</td>\n",
       "    </tr>\n",
       "  </tbody>\n",
       "</table>\n",
       "</div>"
      ],
      "text/plain": [
       "       ID  longitude_predicted  latitude_predicted\n",
       "5045    0           -80.759438           31.173223\n",
       "44194   1           115.983269           15.767951\n",
       "41210   2            10.772911           38.086067\n",
       "32880   3           173.339096          -41.010788\n",
       "0       4             6.005428           48.190571"
      ]
     },
     "execution_count": 64,
     "metadata": {},
     "output_type": "execute_result"
    }
   ],
   "source": [
    "test_fin.head()"
   ]
  },
  {
   "cell_type": "code",
   "execution_count": null,
   "id": "c9c26adb-ab24-4ec8-b091-61471dc8dae2",
   "metadata": {
    "tags": []
   },
   "outputs": [],
   "source": [
    "#Df to file\n",
    "test_fin.to_csv('final_XGBoost.csv', index=False)"
   ]
  },
  {
   "cell_type": "code",
   "execution_count": null,
   "id": "bf12946f-17e5-4123-81a2-4a9a78855140",
   "metadata": {},
   "outputs": [],
   "source": []
  },
  {
   "cell_type": "code",
   "execution_count": null,
   "id": "07b2fd58-7707-4669-83b5-3106d6c425ce",
   "metadata": {},
   "outputs": [],
   "source": []
  }
 ],
 "metadata": {
  "environment": {
   "kernel": "python3",
   "name": "common-cpu.m125",
   "type": "gcloud",
   "uri": "us-docker.pkg.dev/deeplearning-platform-release/gcr.io/base-cpu:m125"
  },
  "kernelspec": {
   "display_name": "Python 3 (Local)",
   "language": "python",
   "name": "python3"
  },
  "language_info": {
   "codemirror_mode": {
    "name": "ipython",
    "version": 3
   },
   "file_extension": ".py",
   "mimetype": "text/x-python",
   "name": "python",
   "nbconvert_exporter": "python",
   "pygments_lexer": "ipython3",
   "version": "3.10.15"
  }
 },
 "nbformat": 4,
 "nbformat_minor": 5
}
